{
 "cells": [
  {
   "cell_type": "markdown",
   "metadata": {},
   "source": [
    "# Intro to Bayesian Statistics Lab\n",
    "\n",
    "Complete the following set of exercises to solidify your knowledge of Bayesian statistics and Bayesian data analysis."
   ]
  },
  {
   "cell_type": "code",
   "execution_count": 15,
   "metadata": {},
   "outputs": [],
   "source": [
    "import pandas as pd\n",
    "import numpy as np\n",
    "import matplotlib.pyplot as plt"
   ]
  },
  {
   "cell_type": "markdown",
   "metadata": {},
   "source": [
    "## 1. Cookie Problem\n",
    "\n",
    "Suppose we have two bowls of cookies. Bowl 1 contains 30 vanilla cookies and 10 chocolate cookies. Bowl 2 contains 20 of each. You randomly pick one cookie out of one of the bowls, and it is vanilla. Use Bayes Theorem to calculate the probability that the vanilla cookie you picked came from Bowl 1?"
   ]
  },
  {
   "cell_type": "code",
   "execution_count": 16,
   "metadata": {},
   "outputs": [
    {
     "ename": "SyntaxError",
     "evalue": "can't assign to function call (<ipython-input-16-cefba1d36f7e>, line 2)",
     "output_type": "error",
     "traceback": [
      "\u001b[1;36m  File \u001b[1;32m\"<ipython-input-16-cefba1d36f7e>\"\u001b[1;36m, line \u001b[1;32m2\u001b[0m\n\u001b[1;33m    P(Bowl1 | Vanilla) = P(Vanilla | Bowl1 ) * P(Bowl1) / P(Vanilla)\u001b[0m\n\u001b[1;37m                                                                    ^\u001b[0m\n\u001b[1;31mSyntaxError\u001b[0m\u001b[1;31m:\u001b[0m can't assign to function call\n"
     ]
    }
   ],
   "source": [
    "#The probability that the cookie obtained is from bowl 1 if we know it is vanilla\n",
    "P(Bowl1 | Vanilla) = P(Vanilla | Bowl1 ) * P(Bowl1) / P(Vanilla)\n",
    "\n",
    "P(Vanilla | Bowl1) = 0.75\n",
    "P(Vanilla | Bowl2) = 0.5\n",
    "P(Bowl1) = 0.5\n",
    "P(Bowl2) = 0.5\n",
    "\n",
    "P(Vanilla) = P(Vanilla | Bowl1) * P(Bowl1) + P(Vanilla | Bowl2) * P(Bowl2) = 0.75 * 0.5 + 0.5 * 0.5 = 0.625\n",
    "\n",
    "P(Bowl1 | Vanilla) = 0.75 * 0.5 / 0.625 = 0.6"
   ]
  },
  {
   "cell_type": "code",
   "execution_count": 17,
   "metadata": {},
   "outputs": [],
   "source": [
    "#or (different approach):\n",
    "\n",
    "def bayes_rule(priors,likelihoods):\n",
    "    marg=sum(np.multiply(priors,likelihoods))\n",
    "    post=np.divide(np.multiply(priors,likelihoods),marg)\n",
    "    return post\n",
    "\n",
    "priors=[0.5,0.5]\n",
    "likelihoods=[0.75,0.5]\n",
    "\n",
    "posteriors=bayes_rule(priors,likelihoods)"
   ]
  },
  {
   "cell_type": "code",
   "execution_count": 18,
   "metadata": {},
   "outputs": [
    {
     "data": {
      "text/plain": [
       "array([0.6, 0.4])"
      ]
     },
     "execution_count": 18,
     "metadata": {},
     "output_type": "execute_result"
    }
   ],
   "source": [
    "posteriors"
   ]
  },
  {
   "cell_type": "code",
   "execution_count": 19,
   "metadata": {},
   "outputs": [
    {
     "name": "stdout",
     "output_type": "stream",
     "text": [
      "The probability that the cookie obtained is from bowl 1 if we know it is vanilla is 0.6.\n"
     ]
    }
   ],
   "source": [
    "print(f'The probability that the cookie obtained is from bowl 1 if we know it is vanilla is {posteriors[0]}.')"
   ]
  },
  {
   "cell_type": "markdown",
   "metadata": {},
   "source": [
    "What is the probability that it came from Bowl 2?"
   ]
  },
  {
   "cell_type": "code",
   "execution_count": 20,
   "metadata": {
    "scrolled": true
   },
   "outputs": [
    {
     "ename": "SyntaxError",
     "evalue": "can't assign to function call (<ipython-input-20-65d7cacd3de8>, line 2)",
     "output_type": "error",
     "traceback": [
      "\u001b[1;36m  File \u001b[1;32m\"<ipython-input-20-65d7cacd3de8>\"\u001b[1;36m, line \u001b[1;32m2\u001b[0m\n\u001b[1;33m    P(Bowl2 | Vanilla) = P(Vanilla | Bowl2 ) * P(Bowl2) / P(Vanilla) = 0.5 * 0.5 / 0.625 = 0.4\u001b[0m\n\u001b[1;37m                                                                                              ^\u001b[0m\n\u001b[1;31mSyntaxError\u001b[0m\u001b[1;31m:\u001b[0m can't assign to function call\n"
     ]
    }
   ],
   "source": [
    "#The probability that the cookie obtained is from bowl 2 if we know it is vanilla\n",
    "P(Bowl2 | Vanilla) = P(Vanilla | Bowl2 ) * P(Bowl2) / P(Vanilla) = 0.5 * 0.5 / 0.625 = 0.4"
   ]
  },
  {
   "cell_type": "code",
   "execution_count": 21,
   "metadata": {},
   "outputs": [
    {
     "name": "stdout",
     "output_type": "stream",
     "text": [
      "The probability that the cookie obtained is from bowl 1 if we know it is vanilla is 0.4.\n"
     ]
    }
   ],
   "source": [
    "#or (different approach):\n",
    "\n",
    "print(f'The probability that the cookie obtained is from bowl 1 if we know it is vanilla is {posteriors[1]}.')"
   ]
  },
  {
   "cell_type": "markdown",
   "metadata": {},
   "source": [
    "What if the cookie you had picked was chocolate? What are the probabilities that the chocolate cookie came from Bowl 1 and Bowl 2 respectively?"
   ]
  },
  {
   "cell_type": "code",
   "execution_count": 22,
   "metadata": {},
   "outputs": [
    {
     "ename": "SyntaxError",
     "evalue": "can't assign to function call (<ipython-input-22-cfd124ca0adf>, line 2)",
     "output_type": "error",
     "traceback": [
      "\u001b[1;36m  File \u001b[1;32m\"<ipython-input-22-cfd124ca0adf>\"\u001b[1;36m, line \u001b[1;32m2\u001b[0m\n\u001b[1;33m    P(Bowl1 | Chocolate) = P(Chocolate | Bowl1 ) * P(Bowl1) / P(Chocolate)\u001b[0m\n\u001b[1;37m                                                                          ^\u001b[0m\n\u001b[1;31mSyntaxError\u001b[0m\u001b[1;31m:\u001b[0m can't assign to function call\n"
     ]
    }
   ],
   "source": [
    "#The probability that the cookie obtained is from bowl 1 if we know it is chocolate\n",
    "P(Bowl1 | Chocolate) = P(Chocolate | Bowl1 ) * P(Bowl1) / P(Chocolate)\n",
    "\n",
    "P(Chocolate | Bowl1) = 0.25\n",
    "P(Chocolate | Bowl2) = 0.5\n",
    "P(Bowl1) = 0.5\n",
    "P(Bowl2) = 0.5\n",
    "\n",
    "P(Chocolate) = P(Chocolate | Bowl1) * P(Bowl1) + P(Chocolate | Bowl2) * P(Bowl2) = 0.25 * 0.5 + 0.5 * 0.5 = 0.375\n",
    "\n",
    "P(Bowl1 | Chocolate) = 0.25 * 0.5 / 0.375 = 1/3"
   ]
  },
  {
   "cell_type": "code",
   "execution_count": 23,
   "metadata": {},
   "outputs": [
    {
     "name": "stdout",
     "output_type": "stream",
     "text": [
      "The probability that the cookie obtained is from bowl 1 if we know it is chocolate is 0.3333333333333333.\n"
     ]
    }
   ],
   "source": [
    "#or (different approach):\n",
    "\n",
    "priors=[0.5,0.5]\n",
    "likelihoods=[0.25,0.5]\n",
    "\n",
    "posteriors=bayes_rule(priors,likelihoods)\n",
    "\n",
    "print(f'The probability that the cookie obtained is from bowl 1 if we know it is chocolate is {posteriors[0]}.')"
   ]
  },
  {
   "cell_type": "code",
   "execution_count": 24,
   "metadata": {},
   "outputs": [
    {
     "ename": "SyntaxError",
     "evalue": "can't assign to function call (<ipython-input-24-66c991be7a21>, line 2)",
     "output_type": "error",
     "traceback": [
      "\u001b[1;36m  File \u001b[1;32m\"<ipython-input-24-66c991be7a21>\"\u001b[1;36m, line \u001b[1;32m2\u001b[0m\n\u001b[1;33m    P(Bowl2 | Chocolate) = P(Chocolate | Bowl2 ) * P(Bowl2) / P(Chocolate) = 0.5 * 0.5 / 0.375 = 2/3\u001b[0m\n\u001b[1;37m                                                                                                    ^\u001b[0m\n\u001b[1;31mSyntaxError\u001b[0m\u001b[1;31m:\u001b[0m can't assign to function call\n"
     ]
    }
   ],
   "source": [
    "#The probability that the cookie obtained is from bowl 2 if we know it is chocolate\n",
    "P(Bowl2 | Chocolate) = P(Chocolate | Bowl2 ) * P(Bowl2) / P(Chocolate) = 0.5 * 0.5 / 0.375 = 2/3"
   ]
  },
  {
   "cell_type": "code",
   "execution_count": 25,
   "metadata": {},
   "outputs": [
    {
     "name": "stdout",
     "output_type": "stream",
     "text": [
      "The probability that the cookie obtained is from bowl 2 if we know it is chocolate is 0.6666666666666666.\n"
     ]
    }
   ],
   "source": [
    "#or (different approach):\n",
    "\n",
    "print(f'The probability that the cookie obtained is from bowl 2 if we know it is chocolate is {posteriors[1]}.')"
   ]
  },
  {
   "cell_type": "markdown",
   "metadata": {},
   "source": [
    "## 2. Candy Problem\n",
    "\n",
    "Suppose you have two bags of candies:\n",
    "\n",
    "- In Bag 1, the mix of colors is:\n",
    "    - Brown - 30%\n",
    "    - Yellow - 20%\n",
    "    - Red - 20%\n",
    "    - Green - 10%\n",
    "    - Orange - 10%\n",
    "    - Tan - 10%\n",
    "    \n",
    "- In Bag 2, the mix of colors is:\n",
    "    - Blue - 24%\n",
    "    - Green - 20%\n",
    "    - Orange - 16%\n",
    "    - Yellow - 14%\n",
    "    - Red - 13%\n",
    "    - Brown - 13%\n",
    "    \n",
    "Not knowing which bag is which, you randomly draw one candy from each bag. One is yellow and one is green. What is the probability that the yellow one came from the Bag 1?\n",
    "\n",
    "*Hint: For the likelihoods, you will need to multiply the probabilities of drawing yellow from one bag and green from the other bag and vice versa.*"
   ]
  },
  {
   "cell_type": "code",
   "execution_count": 26,
   "metadata": {},
   "outputs": [
    {
     "name": "stdout",
     "output_type": "stream",
     "text": [
      "The probability that the candle obtained is from bowl 1 if we know it is yellow is 0.7407407407407408.\n"
     ]
    }
   ],
   "source": [
    "# The probability that the candle obtained is from bowl 1 if we know it is yellow\n",
    "\n",
    "priors = [0.5, 0.5]\n",
    "likelihoods =[(0.2*0.2),(0.14*0.1)]\n",
    "\n",
    "posteriors = bayes_rule(priors,likelihoods)\n",
    "\n",
    "print(f'The probability that the candle obtained is from bowl 1 if we know it is yellow is {posteriors[0]}.')"
   ]
  },
  {
   "cell_type": "markdown",
   "metadata": {},
   "source": [
    "What is the probability that the yellow candy came from Bag 2?"
   ]
  },
  {
   "cell_type": "code",
   "execution_count": 27,
   "metadata": {},
   "outputs": [
    {
     "name": "stdout",
     "output_type": "stream",
     "text": [
      "The probability that the candle obtained is from bowl 2 if we know it is yellow is 0.25925925925925924.\n"
     ]
    }
   ],
   "source": [
    "# The probability that the candle obtained is from bowl 2 if we know it is yellow\n",
    "\n",
    "print(f'The probability that the candle obtained is from bowl 2 if we know it is yellow is {posteriors[1]}.')"
   ]
  },
  {
   "cell_type": "markdown",
   "metadata": {},
   "source": [
    "What are the probabilities that the green one came from Bag 1 and Bag 2 respectively?"
   ]
  },
  {
   "cell_type": "code",
   "execution_count": 28,
   "metadata": {},
   "outputs": [
    {
     "name": "stdout",
     "output_type": "stream",
     "text": [
      "The probability that the candle obtained is from bowl 1 if we know it is green 0.25925925925925924.\n"
     ]
    }
   ],
   "source": [
    "# The probability that the candle obtained is from bowl 1 if we know it is green\n",
    "\n",
    "likelihoods =[(0.14*0.1),(0.2*0.2)]\n",
    "\n",
    "posteriors = bayes_rule(priors,likelihoods)\n",
    "\n",
    "print(f'The probability that the candle obtained is from bowl 1 if we know it is green {posteriors[0]}.')"
   ]
  },
  {
   "cell_type": "code",
   "execution_count": 29,
   "metadata": {},
   "outputs": [
    {
     "name": "stdout",
     "output_type": "stream",
     "text": [
      "The probability that the candle obtained is from bowl 2 if we know it is green 0.7407407407407408.\n"
     ]
    }
   ],
   "source": [
    "# The probability that the candle obtained is from bowl 2 if we know it is green\n",
    "\n",
    "print(f'The probability that the candle obtained is from bowl 2 if we know it is green {posteriors[1]}.')"
   ]
  },
  {
   "cell_type": "markdown",
   "metadata": {},
   "source": [
    "## 3. Monty Hall Problem\n",
    "\n",
    "Suppose you are a contestant on the popular game show *Let's Make a Deal*. The host of the show (Monty Hall) presents you with three doors - Door A, Door B, and Door C. He tells you that there is a sports car behind one of them and if you choose the correct one, you win the car!\n",
    "\n",
    "You select Door A, but then Monty makes things a little more interesting. He opens Door B to reveal that there is no sports car behind it and asks you if you would like to stick with your choice of Door A or switch your choice to Door C. Given this new information, what are the probabilities of you winning the car if you stick with Door A versus if you switch to Door C?"
   ]
  },
  {
   "cell_type": "code",
   "execution_count": 32,
   "metadata": {},
   "outputs": [
    {
     "ename": "SyntaxError",
     "evalue": "invalid syntax (<ipython-input-32-2573187eaadd>, line 3)",
     "output_type": "error",
     "traceback": [
      "\u001b[1;36m  File \u001b[1;32m\"<ipython-input-32-2573187eaadd>\"\u001b[1;36m, line \u001b[1;32m3\u001b[0m\n\u001b[1;33m    I select Door A\u001b[0m\n\u001b[1;37m           ^\u001b[0m\n\u001b[1;31mSyntaxError\u001b[0m\u001b[1;31m:\u001b[0m invalid syntax\n"
     ]
    }
   ],
   "source": [
    "#Following Information is available\n",
    "\n",
    "I select Door A\n",
    "Car: which door the car is behind (C=A,B or C)\n",
    "H: which door Monty Hall opens(Monty Hall opens Door B)\n",
    "    \n",
    "p(Car = A) = p(Car =B) = p(Car = C) = 1/3 #probability of hypothesis of getting a car is supposingly always 1/3 before I even start playing\n",
    "    \n",
    "p(H=B | Car=A) = .5 #probabilities of Monty Hall opens Door B if car is behind A, B and C\n",
    "p(H=B | Car=B) = 0\n",
    "p(H=B | Car=C) = 1\n",
    "\n",
    "# Probabilities of me winning the car if I stick with Door A vs. if you switch to Door C\n",
    "\n",
    "p(Car=C | H=B)=?\n",
    "p(Car=A | H=B)=?\n",
    "\n",
    "p(Car=C | H=B)= p(H=B | Car=C) * p(Car=C) / p(H=B) = p(H=B | Car=C) * p(Car=C) / p(H=B | Car=A) * p(H=A) + p(H=B | Car=B) * p(H=B) + p(H=B | Car=C) * p(H=C) = \n",
    "1 * (1/3) / (1/2)*(1/3)+ 0*(1/3) + 1*(1/3) = 2/3\n",
    "\n",
    "p(Car=A | H=B)= (1/2)*(1/3) / (1/2)*(1/3) + 0*(1/3) + 1*(1/3) = 1/3"
   ]
  },
  {
   "cell_type": "code",
   "execution_count": 36,
   "metadata": {},
   "outputs": [
    {
     "name": "stdout",
     "output_type": "stream",
     "text": [
      "The probability of me winning the car if I stick with Door A is 0.3333333333333333.\n",
      "The probability of me winning the car if I switch to Door C is 0.6666666666666666.\n"
     ]
    }
   ],
   "source": [
    "#or (other approach)\n",
    "priors=[1/3,1/3,1/3] #p(Car = A) = p(Car =B) = p(Car = C) = 1/3\n",
    "likelihoods=[0.5,0,1] #p(H=B | Car=A), p(H=B | Car=B),p(H=B | Car=C)\n",
    "\n",
    "posteriors=bayes_rule(priors,likelihoods)\n",
    "\n",
    "#Probability of me winning the car if I stick with Door A\n",
    "\n",
    "print(f'The probability of me winning the car if I stick with Door A is {posteriors[0]}.')\n",
    "\n",
    "#Probability of me winning the car if I switch to Door C\n",
    "\n",
    "print(f'The probability of me winning the car if I switch to Door C is {posteriors[2]}.')"
   ]
  },
  {
   "cell_type": "markdown",
   "metadata": {},
   "source": [
    "## 4. Bayesian Analysis \n",
    "\n",
    "Suppose you work for a landscaping company, and they want to advertise their service online. They create an ad and sit back waiting for the money to roll in. On the first day, the ad sends 100 visitors to the site and 14 of them sign up for landscaping services. Create a generative model to come up with the posterior distribution and produce a visualization of what the posterior distribution would look like given the observed data."
   ]
  },
  {
   "cell_type": "code",
   "execution_count": 58,
   "metadata": {},
   "outputs": [],
   "source": [
    "n_draws = 100000\n",
    "prior = pd.Series(np.random.uniform(0, 1, size=n_draws))"
   ]
  },
  {
   "cell_type": "code",
   "execution_count": 59,
   "metadata": {},
   "outputs": [],
   "source": [
    "observed = 14"
   ]
  },
  {
   "cell_type": "code",
   "execution_count": 60,
   "metadata": {},
   "outputs": [],
   "source": [
    "def generative_model(param):\n",
    "    result = np.random.binomial(100, param)\n",
    "    return result"
   ]
  },
  {
   "cell_type": "code",
   "execution_count": 61,
   "metadata": {},
   "outputs": [],
   "source": [
    "sim_data = list()\n",
    "\n",
    "for p in prior:\n",
    "    sim_data.append(generative_model(p))"
   ]
  },
  {
   "cell_type": "code",
   "execution_count": 62,
   "metadata": {},
   "outputs": [],
   "source": [
    "posterior = prior[list(map(lambda x: x == observed, sim_data))]"
   ]
  },
  {
   "cell_type": "code",
   "execution_count": 63,
   "metadata": {},
   "outputs": [
    {
     "data": {
      "image/png": "[encoded data removed]",
      "text/plain": [
       "<Figure size 432x288 with 1 Axes>"
      ]
     },
     "metadata": {
      "needs_background": "light"
     },
     "output_type": "display_data"
    }
   ],
   "source": [
    "posterior.hist();"
   ]
  },
  {
   "cell_type": "markdown",
   "metadata": {},
   "source": [
    "Produce a set of descriptive statistics for the posterior distribution."
   ]
  },
  {
   "cell_type": "code",
   "execution_count": 64,
   "metadata": {},
   "outputs": [
    {
     "data": {
      "text/plain": [
       "count    1062.000000\n",
       "mean        0.147575\n",
       "std         0.035763\n",
       "min         0.061107\n",
       "25%         0.122434\n",
       "50%         0.144622\n",
       "75%         0.169140\n",
       "max         0.340953\n",
       "dtype: float64"
      ]
     },
     "execution_count": 64,
     "metadata": {},
     "output_type": "execute_result"
    }
   ],
   "source": [
    "posterior.describe()"
   ]
  },
  {
   "cell_type": "markdown",
   "metadata": {},
   "source": [
    "What is the 90% credible interval range?"
   ]
  },
  {
   "cell_type": "code",
   "execution_count": 65,
   "metadata": {},
   "outputs": [
    {
     "name": "stdout",
     "output_type": "stream",
     "text": [
      "The 90% credible interval range is 0.08664588389448552 | 0.22039914159414076.\n"
     ]
    }
   ],
   "source": [
    "print(f'The 90% credible interval range is {posterior.quantile(.025)} | {posterior.quantile(.975)}.') "
   ]
  },
  {
   "cell_type": "markdown",
   "metadata": {},
   "source": [
    "What is the Maximum Likelihood Estimate?"
   ]
  },
  {
   "cell_type": "code",
   "execution_count": 66,
   "metadata": {},
   "outputs": [
    {
     "name": "stdout",
     "output_type": "stream",
     "text": [
      "Maximum Likelihood Estimate:  0.14 | 0.1271186440677966\n"
     ]
    }
   ],
   "source": [
    "rounded = posterior.round(2)\n",
    "mode = rounded.mode()[0]\n",
    "probability = list(rounded).count(mode)/len(rounded)\n",
    "print('Maximum Likelihood Estimate: ', mode, '|',probability)"
   ]
  }
 ],
 "metadata": {
  "kernelspec": {
   "display_name": "Python 3",
   "language": "python",
   "name": "python3"
  },
  "language_info": {
   "codemirror_mode": {
    "name": "ipython",
    "version": 3
   },
   "file_extension": ".py",
   "mimetype": "text/x-python",
   "name": "python",
   "nbconvert_exporter": "python",
   "pygments_lexer": "ipython3",
   "version": "3.7.9"
  }
 },
 "nbformat": 4,
 "nbformat_minor": 2
}
